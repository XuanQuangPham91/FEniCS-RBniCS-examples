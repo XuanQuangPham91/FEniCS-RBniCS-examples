{
 "metadata": {
  "language_info": {
   "codemirror_mode": {
    "name": "ipython",
    "version": 3
   },
   "file_extension": ".py",
   "mimetype": "text/x-python",
   "name": "python",
   "nbconvert_exporter": "python",
   "pygments_lexer": "ipython3",
   "version": "3.8.5-final"
  },
  "orig_nbformat": 2,
  "kernelspec": {
   "name": "python38564bit84b171b53ac84ead8943fb5d1718776a",
   "display_name": "Python 3.8.5 64-bit",
   "language": "python"
  }
 },
 "nbformat": 4,
 "nbformat_minor": 2,
 "cells": [
  {
   "cell_type": "code",
   "execution_count": 1,
   "metadata": {},
   "outputs": [],
   "source": [
    "from sys import path\n",
    "from dolfin import *\n",
    "from mshr import *\n",
    "from Python_module_Quang import *\n",
    "\n",
    "import matplotlib.pyplot as plt\n",
    "import sys\n",
    "from numpy.core.records import array\n",
    "\n",
    "from numpy.lib.function_base import append\n",
    "sys.path.append(\n",
    "    '/media/xuanquang/Gaumap Lab data/05_Git_project/FEniCS-RBniCS-examples/20210218_2D_tangential_load/'\n",
    ")\n",
    "\n",
    "try:\n",
    "    import file\n",
    "except:\n",
    "    print(\"fail to import file\")\n",
    "\n",
    "try:\n",
    "    import tangential_load\n",
    "except:\n",
    "    print(\"fail to import tangential_load.py\")\n",
    "\n",
    "format = \"png\""
   ]
  },
  {
   "cell_type": "code",
   "execution_count": null,
   "metadata": {},
   "outputs": [],
   "source": []
  }
 ]
}