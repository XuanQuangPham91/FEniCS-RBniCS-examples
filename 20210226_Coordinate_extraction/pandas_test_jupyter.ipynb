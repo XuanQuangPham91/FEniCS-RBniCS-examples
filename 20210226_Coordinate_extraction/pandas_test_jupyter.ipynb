{
 "metadata": {
  "language_info": {
   "codemirror_mode": {
    "name": "ipython",
    "version": 3
   },
   "file_extension": ".py",
   "mimetype": "text/x-python",
   "name": "python",
   "nbconvert_exporter": "python",
   "pygments_lexer": "ipython3",
   "version": "3.8.5-final"
  },
  "orig_nbformat": 2,
  "kernelspec": {
   "name": "python38564bit84b171b53ac84ead8943fb5d1718776a",
   "display_name": "Python 3.8.5 64-bit",
   "language": "python"
  }
 },
 "nbformat": 4,
 "nbformat_minor": 2,
 "cells": [
  {
   "cell_type": "code",
   "execution_count": 1,
   "metadata": {},
   "outputs": [],
   "source": [
    "from sys import path\n",
    "from dolfin import *\n",
    "from mshr import *\n",
    "from Python_module_Quang import *\n",
    "\n",
    "import matplotlib.pyplot as plt\n",
    "%matplotlib inline\n",
    "\n",
    "import sys\n",
    "import numpy as np\n",
    "from numpy.core.records import array\n",
    "from numpy.lib.function_base import append\n",
    "\n",
    "sys.path.append(\n",
    "    '/media/xuanquang/Gaumap Lab data/05_Git_project/FEniCS-RBniCS-examples/20210218_2D_tangential_load/'\n",
    ")\n",
    "\n",
    "try:\n",
    "    import file\n",
    "except:\n",
    "    print(\"fail to import file\")\n",
    "\n",
    "try:\n",
    "    import tangential_load\n",
    "except:\n",
    "    print(\"fail to import tangential_load.py\")\n",
    "\n",
    "format = \"png\"\n",
    "\n",
    "from mpl_toolkits import mplot3d\n"
   ]
  },
  {
   "cell_type": "code",
   "execution_count": 2,
   "metadata": {},
   "outputs": [],
   "source": [
    "def cal_magnitude(ux, uy):\n",
    "    u_magnitude = []\n",
    "    for i in range(len(ux)):\n",
    "        norm = sqrt((ux[i])**2 + (uy[i])**2)\n",
    "        u_magnitude.append(norm)\n",
    "    return u_magnitude"
   ]
  },
  {
   "cell_type": "code",
   "execution_count": 3,
   "metadata": {},
   "outputs": [
    {
     "output_type": "error",
     "ename": "NameError",
     "evalue": "name 'V' is not defined",
     "traceback": [
      "\u001b[0;31m---------------------------------------------------------------------------\u001b[0m",
      "\u001b[0;31mNameError\u001b[0m                                 Traceback (most recent call last)",
      "\u001b[0;32m<ipython-input-3-b84d35c966fc>\u001b[0m in \u001b[0;36m<module>\u001b[0;34m\u001b[0m\n\u001b[1;32m     10\u001b[0m \u001b[0;34m\u001b[0m\u001b[0m\n\u001b[1;32m     11\u001b[0m \u001b[0;34m\u001b[0m\u001b[0m\n\u001b[0;32m---> 12\u001b[0;31m \u001b[0mx\u001b[0m\u001b[0;34m,\u001b[0m \u001b[0my\u001b[0m\u001b[0;34m,\u001b[0m \u001b[0mux\u001b[0m\u001b[0;34m,\u001b[0m \u001b[0muy\u001b[0m\u001b[0;34m,\u001b[0m \u001b[0mnodal_values\u001b[0m \u001b[0;34m=\u001b[0m \u001b[0mfile\u001b[0m\u001b[0;34m.\u001b[0m\u001b[0mcoordinates_operator\u001b[0m\u001b[0;34m(\u001b[0m\u001b[0mmesh\u001b[0m\u001b[0;34m,\u001b[0m \u001b[0mu_FE\u001b[0m\u001b[0;34m)\u001b[0m\u001b[0;34m\u001b[0m\u001b[0;34m\u001b[0m\u001b[0m\n\u001b[0m\u001b[1;32m     13\u001b[0m \u001b[0;34m\u001b[0m\u001b[0m\n\u001b[1;32m     14\u001b[0m \u001b[0;31m# u_mag = cal_magnitude(ux, uy)\u001b[0m\u001b[0;34m\u001b[0m\u001b[0;34m\u001b[0m\u001b[0;34m\u001b[0m\u001b[0m\n",
      "\u001b[0;32m/media/xuanquang/Gaumap Lab data/05_Git_project/FEniCS-RBniCS-examples/20210226_Coordinate_extraction/file.py\u001b[0m in \u001b[0;36mcoordinates_operator\u001b[0;34m(mesh, u)\u001b[0m\n\u001b[1;32m     50\u001b[0m \u001b[0;32mdef\u001b[0m \u001b[0mcoordinates_operator\u001b[0m\u001b[0;34m(\u001b[0m\u001b[0mmesh\u001b[0m\u001b[0;34m,\u001b[0m \u001b[0mu\u001b[0m\u001b[0;34m)\u001b[0m\u001b[0;34m:\u001b[0m\u001b[0;34m\u001b[0m\u001b[0;34m\u001b[0m\u001b[0m\n\u001b[1;32m     51\u001b[0m     \u001b[0mnodal_values\u001b[0m \u001b[0;34m=\u001b[0m \u001b[0mu\u001b[0m\u001b[0;34m.\u001b[0m\u001b[0mvector\u001b[0m\u001b[0;34m(\u001b[0m\u001b[0;34m)\u001b[0m\u001b[0;34m.\u001b[0m\u001b[0mget_local\u001b[0m\u001b[0;34m(\u001b[0m\u001b[0;34m)\u001b[0m\u001b[0;34m\u001b[0m\u001b[0;34m\u001b[0m\u001b[0m\n\u001b[0;32m---> 52\u001b[0;31m     \u001b[0mcoordinates\u001b[0m \u001b[0;34m=\u001b[0m \u001b[0mV\u001b[0m\u001b[0;34m.\u001b[0m\u001b[0mtabulate_dof_coordinates\u001b[0m\u001b[0;34m(\u001b[0m\u001b[0;34m)\u001b[0m\u001b[0;34m\u001b[0m\u001b[0;34m\u001b[0m\u001b[0m\n\u001b[0m\u001b[1;32m     53\u001b[0m     \u001b[0mx\u001b[0m \u001b[0;34m=\u001b[0m \u001b[0mcoordinates\u001b[0m\u001b[0;34m[\u001b[0m\u001b[0;34m:\u001b[0m\u001b[0;34m,\u001b[0m \u001b[0;36m0\u001b[0m\u001b[0;34m]\u001b[0m\u001b[0;34m\u001b[0m\u001b[0;34m\u001b[0m\u001b[0m\n\u001b[1;32m     54\u001b[0m     \u001b[0my\u001b[0m \u001b[0;34m=\u001b[0m \u001b[0mcoordinates\u001b[0m\u001b[0;34m[\u001b[0m\u001b[0;34m:\u001b[0m\u001b[0;34m,\u001b[0m \u001b[0;36m1\u001b[0m\u001b[0;34m]\u001b[0m\u001b[0;34m\u001b[0m\u001b[0;34m\u001b[0m\u001b[0m\n",
      "\u001b[0;31mNameError\u001b[0m: name 'V' is not defined"
     ]
    }
   ],
   "source": [
    "\"\"\" main \"\"\"\n",
    "\n",
    "# import mesh\n",
    "mesh = Mesh(\"data/elastic_block.xml\")\n",
    "V = VectorFunctionSpace(mesh, \"Lagrange\", 1)\n",
    "\n",
    "u_FE = load_HDF5(V, mesh, title='u_FE')\n",
    "u_magnitude = cal_u_magnitude(u=u_FE, mesh=mesh)\n",
    "u_mag = array(u_magnitude.vector().get_local())\n",
    "\n",
    "\n",
    "x, y, ux, uy, nodal_values = file.coordinates_operator(mesh, u_FE)\n",
    "\n",
    "# u_mag = cal_magnitude(ux, uy)\n",
    "print(f\"len(u_mag): {len(u_mag)}\")\n",
    "\n",
    "# print(type(array(x)))\n",
    "# print(f\"x: {x}\")\n",
    "# print(type(y))\n",
    "# print(f\"y: {y}\")\n",
    "\n",
    "# ux, uy = file.extract_ux_uy(u=u_FE)\n",
    "# print(type(ux))\n",
    "# # print(f\"ux: {ux}\")\n",
    "# print(type(uy))\n",
    "# # print(f\"uy: {uy}\")\n"
   ]
  },
  {
   "cell_type": "code",
   "execution_count": null,
   "metadata": {},
   "outputs": [],
   "source": [
    "plt.figure()\n",
    "plot(u_FE, mode=\"displacement\")\n",
    "plt.jet()\n",
    "plt.colorbar(plot(u_FE, mode=\"displacement\"))\n",
    "\n",
    "plt.figure()\n",
    "plot(mesh)\n",
    "\n",
    "plt.figure()\n",
    "plot(u_magnitude)\n",
    "\n",
    "\n",
    "# plt.show()"
   ]
  },
  {
   "cell_type": "code",
   "execution_count": null,
   "metadata": {},
   "outputs": [],
   "source": [
    "# fig = plt.figure()\n",
    "# ax = plt.axes(projection='3d')\n",
    "X, Y= x, y\n",
    "Z = z = u_mag\n",
    "\n",
    "\n",
    "# Data for a three-dimensional line\n",
    "# zline = np.linspace(0, 15, 3)\n",
    "# xline = np.sin(zline)\n",
    "# yline = np.cos(zline)\n",
    "# ax.plot3D(xline, yline, zline, 'gray')\n",
    "# print(len(zline))\n",
    "# print(zline.shape)\n",
    "# print(xline)\n",
    "# print(yline)\n",
    "\n",
    "print(len(x))\n",
    "# print(x.shape)\n",
    "\n",
    "print(len(y))\n",
    "# print(y.shape)\n",
    "\n",
    "print(len(u_mag))\n",
    "# print(u_magnitude.shape)\n",
    "\n",
    "# fig = plt.figure()\n",
    "# ax = fig.add_subplot(111, projection='3d')\n",
    "\n",
    "# # ax.plot3D(X, Y, Z, 'gray')\n",
    "# # ax.contour3D(x, y, u_magnitude, 50, cmap='binary')\n",
    "# plot = ax.scatter(X, Y, Z, c=z) #, cmap='viridis', linewidth=0.5)\n",
    "# # ax.plot_surface(X, Y, Z, rstride=1, cstride=1, cmap='viridis', edgecolor='none')\n",
    "\n",
    "# # ax.plot_surface(X, Y, Z, rstride=1, cstride=1, \n",
    "# #                 cmap='viridis', edgecolor='none')\n",
    "# # ax.plot_trisurf(x, y, Z, cmap='viridis', edgecolor='none')\n",
    "# ax.set_title('surface')\n",
    "\n",
    "# plt.colorbar(plot)\n",
    "\n",
    "\n",
    "# Data for three-dimensional scattered points\n",
    "# zdata = 15 * np.random.random(100)\n",
    "# xdata = np.sin(zdata) + 0.1 * np.random.randn(100)\n",
    "# ydata = np.cos(zdata) + 0.1 * np.random.randn(100)\n",
    "# ax.scatter3D(xdata, ydata, zdata, c=zdata, cmap='Greens');"
   ]
  },
  {
   "cell_type": "code",
   "execution_count": null,
   "metadata": {},
   "outputs": [],
   "source": [
    "marker_size=15\n",
    "\n",
    "plt.scatter(x, y, marker_size, c=z)\n",
    "plt.title(\"Point observations\")\n",
    "plt.xlabel(\"x\")\n",
    "plt.ylabel(\"y\")\n",
    "cbar= plt.colorbar()\n",
    "cbar.set_label(\"elevation (m)\", labelpad=+1)"
   ]
  },
  {
   "cell_type": "code",
   "execution_count": null,
   "metadata": {},
   "outputs": [],
   "source": [
    "# import matplotlib.pyplot as plt\n",
    "# import numpy as np\n",
    "# from matplotlib.colors import LogNorm\n",
    "\n",
    "# x_list = np.array(x)\n",
    "# y_list = np.array(y)\n",
    "# z_list = np.array(z)\n",
    "\n",
    "# N = int(len(z_list)**.5)\n",
    "# z = z_list.reshape(N, N)\n",
    "# plt.imshow(z, extent=(np.amin(x_list), np.amax(x_list), np.amin(y_list), np.amax(y_list)), norm=LogNorm(), aspect = 'auto')\n",
    "# plt.colorbar()\n",
    "# plt.show()"
   ]
  },
  {
   "cell_type": "code",
   "execution_count": null,
   "metadata": {},
   "outputs": [],
   "source": [
    "from scipy.interpolate import interp2d\n",
    "\n",
    "x_list = np.array(x)\n",
    "y_list = np.array(y)\n",
    "z_list = np.array(z)\n",
    "\n",
    "# f will be a function with two arguments (x and y coordinates),\n",
    "# but those can be array_like structures too, in which case the\n",
    "# result will be a matrix representing the values in the grid \n",
    "# specified by those arguments\n",
    "f = interp2d(x_list,y_list,z_list,kind=\"linear\")\n",
    "\n",
    "x_coords = np.arange(min(x_list),max(x_list)+1)\n",
    "y_coords = np.arange(min(y_list),max(y_list)+1)\n",
    "Z = f(x_coords,y_coords)\n",
    "\n",
    "fig = plt.imshow(Z,\n",
    "           extent=[min(x_list),max(x_list),min(y_list),max(y_list)],\n",
    "           origin=\"lower\")\n",
    "\n",
    "# Show the positions of the sample points, just to have some reference\n",
    "fig.axes.set_autoscale_on(False)\n",
    "# plt.scatter(x_list,y_list,400,facecolors='none')\n"
   ]
  },
  {
   "cell_type": "code",
   "execution_count": null,
   "metadata": {},
   "outputs": [],
   "source": [
    "from boxfield import *\n",
    "u_box = FEniCSBoxField(u, (nx, ny))"
   ]
  }
 ]
}