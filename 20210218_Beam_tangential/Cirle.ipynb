{
 "metadata": {
  "language_info": {
   "codemirror_mode": {
    "name": "ipython",
    "version": 3
   },
   "file_extension": ".py",
   "mimetype": "text/x-python",
   "name": "python",
   "nbconvert_exporter": "python",
   "pygments_lexer": "ipython3",
   "version": 3
  },
  "orig_nbformat": 2
 },
 "nbformat": 4,
 "nbformat_minor": 2,
 "cells": [
  {
   "cell_type": "code",
   "execution_count": null,
   "metadata": {},
   "outputs": [],
   "source": [
    "from dolfin import *\n",
    "from mshr import *\n",
    "from ufl import Jacobian, diag\n",
    "from plotting import plot\n",
    "\n"
   ]
  },
  {
   "cell_type": "code",
   "execution_count": null,
   "metadata": {},
   "outputs": [],
   "source": [
    "N = 10  # segment for generate mesh\n",
    "R = 1\n",
    "\n",
    "rectangle = Rectangle(Point(0., 0.), Point(1., 1.))\n",
    "circle = Circle(Point(0., 0.), R, segments=3 * N)\n",
    "domain = rectangle\n",
    "domain.set_subdomain(1, circle)\n",
    "domain.set_subdomain(2, rectangle - circle)\n",
    "\n",
    "mesh = generate_mesh(domain, N)\n",
    "subdomains = MeshFunction(\"size_t\", mesh,\n",
    "                          mesh.topology().dim(), mesh.domains())\n",
    "boundaries = MeshFunction(\"size_t\", mesh, mesh.topology().dim() - 1)\n",
    "\n",
    "dx = Measure(\"dx\")(subdomain_data=self.subdomains)\n",
    "ds = Measure(\"ds\")(subdomain_data=self.boundaries)"
   ]
  },
  {
   "cell_type": "code",
   "execution_count": null,
   "metadata": {},
   "outputs": [],
   "source": [
    "\n",
    "def tangent(mesh):\n",
    "    t = Jacobian(mesh)\n",
    "    return as_vector([t[0, 0], t[1, 0], t[2, 0]]) / sqrt(inner(t, t))\n",
    "\n",
    "\n",
    "t = tangent(mesh)"
   ]
  }
 ]
}