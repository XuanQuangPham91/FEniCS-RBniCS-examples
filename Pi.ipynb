{
 "metadata": {
  "language_info": {
   "codemirror_mode": {
    "name": "ipython",
    "version": 3
   },
   "file_extension": ".py",
   "mimetype": "text/x-python",
   "name": "python",
   "nbconvert_exporter": "python",
   "pygments_lexer": "ipython3",
   "version": "3.8.5-final"
  },
  "orig_nbformat": 2,
  "kernelspec": {
   "name": "python38564bit84b171b53ac84ead8943fb5d1718776a",
   "display_name": "Python 3.8.5 64-bit",
   "language": "python"
  }
 },
 "nbformat": 4,
 "nbformat_minor": 2,
 "cells": [
  {
   "cell_type": "code",
   "execution_count": 1,
   "metadata": {},
   "outputs": [
    {
     "output_type": "error",
     "ename": "AttributeError",
     "evalue": "'Turtle' object has no attribute 'tracer'",
     "traceback": [
      "\u001b[0;31m---------------------------------------------------------------------------\u001b[0m",
      "\u001b[0;31mAttributeError\u001b[0m                            Traceback (most recent call last)",
      "\u001b[0;32m<ipython-input-1-dc83b607d5dc>\u001b[0m in \u001b[0;36m<module>\u001b[0;34m\u001b[0m\n\u001b[1;32m      6\u001b[0m \u001b[0mmyPen\u001b[0m \u001b[0;34m=\u001b[0m \u001b[0mturtle\u001b[0m\u001b[0;34m.\u001b[0m\u001b[0mTurtle\u001b[0m\u001b[0;34m(\u001b[0m\u001b[0;34m)\u001b[0m\u001b[0;34m\u001b[0m\u001b[0;34m\u001b[0m\u001b[0m\n\u001b[1;32m      7\u001b[0m \u001b[0mmyPen\u001b[0m\u001b[0;34m.\u001b[0m\u001b[0mhideturtle\u001b[0m\u001b[0;34m(\u001b[0m\u001b[0;34m)\u001b[0m\u001b[0;34m\u001b[0m\u001b[0;34m\u001b[0m\u001b[0m\n\u001b[0;32m----> 8\u001b[0;31m \u001b[0mmyPen\u001b[0m\u001b[0;34m.\u001b[0m\u001b[0mtracer\u001b[0m\u001b[0;34m(\u001b[0m\u001b[0;36m0\u001b[0m\u001b[0;34m)\u001b[0m\u001b[0;34m\u001b[0m\u001b[0;34m\u001b[0m\u001b[0m\n\u001b[0m\u001b[1;32m      9\u001b[0m \u001b[0mmyPen\u001b[0m\u001b[0;34m.\u001b[0m\u001b[0mspeed\u001b[0m\u001b[0;34m(\u001b[0m\u001b[0;36m0\u001b[0m\u001b[0;34m)\u001b[0m\u001b[0;34m\u001b[0m\u001b[0;34m\u001b[0m\u001b[0m\n\u001b[1;32m     10\u001b[0m \u001b[0mwindow\u001b[0m \u001b[0;34m=\u001b[0m \u001b[0mturtle\u001b[0m\u001b[0;34m.\u001b[0m\u001b[0mScreen\u001b[0m\u001b[0;34m(\u001b[0m\u001b[0;34m)\u001b[0m\u001b[0;34m\u001b[0m\u001b[0;34m\u001b[0m\u001b[0m\n",
      "\u001b[0;31mAttributeError\u001b[0m: 'Turtle' object has no attribute 'tracer'"
     ]
    }
   ],
   "source": [
    "#Estimating Pi using the Monte Carlo Method - www.101computing.net/estimating-pi-using-the-monte-carlo-method/\n",
    "import turtle\n",
    "import random\n",
    "\n",
    "#Initialise Python Turtle\n",
    "myPen = turtle.Turtle()\n",
    "myPen.hideturtle()\n",
    "myPen.tracer(0)\n",
    "myPen.speed(0)\n",
    "window = turtle.Screen()\n",
    "window.bgcolor(\"#FFFFFF\")\n",
    "\n",
    "#A function to draw the Canvas\n",
    "def drawSquare(x,y,width):\n",
    "  myPen.penup()\n",
    "  myPen.goto(x,y)\n",
    "  myPen.pensize(3)\n",
    "  myPen.color(\"#333333\")\n",
    "  myPen.pendown()\n",
    "  for side in range(0,4):\n",
    "    myPen.forward(width)\n",
    "    myPen.right(90)\n",
    "  myPen.pensize(1)\n",
    "\n",
    "#A function to draw the Circle\n",
    "def drawCircle(x,y,radius):\n",
    "  myPen.penup()\n",
    "  myPen.goto(x,y-radius)\n",
    "  myPen.pensize(2)\n",
    "  myPen.color(\"#333333\")\n",
    "  myPen.pendown()\n",
    "  myPen.circle(radius)\n",
    "  myPen.pensize(1)\n",
    "\n",
    "#A function to draw a dot\n",
    "def drawDot(x,y,color):\n",
    "  myPen.penup()\n",
    "  myPen.goto(x,y-1)\n",
    "  myPen.pendown()\n",
    "  myPen.fillcolor(color)\n",
    "  myPen.color(color)\n",
    "  myPen.begin_fill()\n",
    "  myPen.circle(1)\n",
    "  myPen.end_fill()\n",
    "\n",
    "#Main Program Starts Here\n",
    "radius=180\n",
    "color = \"#000000\"\n",
    "total = 2500\n",
    "totalIn = 0\n",
    "\n",
    "drawSquare(-radius,radius,2*radius)\n",
    "drawCircle(0,0,radius)\n",
    "\n",
    "for dots in range(0,total):\n",
    "  x = random.randint(-radius,radius)\n",
    "  y = random.randint(-radius,radius)\n",
    "\n",
    "  #Apply Pythagoras Formula to find out the distance to the centre of the screen\n",
    "  distance = (x**2 + y**2)**0.5\n",
    "  \n",
    "  #Check if dot is in the circle\n",
    "  if distance<radius:\n",
    "    color = \"#FF0000\"\n",
    "    totalIn += 1\n",
    "  else:\n",
    "    color = \"#0000FF\"\n",
    "    \n",
    "  #Draw Dot\n",
    "  drawDot(x,y,color)\n",
    "\n",
    "myPen.getscreen().update() \n",
    "\n",
    "#Applying Monte Carlo's Method to estimate Pi\n",
    "pi = 4*(totalIn/total)\n",
    "print(\"Pi Estimation:\" + str(pi))"
   ]
  },
  {
   "cell_type": "code",
   "execution_count": null,
   "metadata": {},
   "outputs": [],
   "source": []
  }
 ]
}